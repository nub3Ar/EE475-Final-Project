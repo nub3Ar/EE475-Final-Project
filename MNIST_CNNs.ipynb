{
 "cells": [
  {
   "cell_type": "code",
   "execution_count": 2,
   "metadata": {
    "id": "Ia1KJznurWB_"
   },
   "outputs": [],
   "source": [
    "import tensorflow as tf\n",
    "import keras\n",
    "from keras import layers\n",
    "import numpy as np\n",
    "import matplotlib.pyplot as plt"
   ]
  },
  {
   "cell_type": "markdown",
   "metadata": {
    "id": "zr0pen5x5cQL"
   },
   "source": [
    "#### Load data"
   ]
  },
  {
   "cell_type": "code",
   "execution_count": 3,
   "metadata": {
    "colab": {
     "base_uri": "https://localhost:8080/"
    },
    "id": "mn5qorMYssUP",
    "outputId": "6be9fa78-a0c1-4f25-9e36-15c0fe79f8b0"
   },
   "outputs": [
    {
     "name": "stdout",
     "output_type": "stream",
     "text": [
      "Downloading data from https://storage.googleapis.com/tensorflow/tf-keras-datasets/mnist.npz\n",
      "11493376/11490434 [==============================] - 2s 0us/step\n",
      "Number of original training examples: 60000\n",
      "Number of original test examples: 10000\n"
     ]
    }
   ],
   "source": [
    "(x_train, y_train), (x_test, y_test) = tf.keras.datasets.mnist.load_data()\n",
    "\n",
    "print(\"Number of original training examples:\", len(x_train))\n",
    "print(\"Number of original test examples:\", len(x_test))"
   ]
  },
  {
   "cell_type": "code",
   "execution_count": 4,
   "metadata": {
    "colab": {
     "base_uri": "https://localhost:8080/"
    },
    "id": "YnZNYOsG00VS",
    "outputId": "0af5d272-dccc-4bee-f1d6-5447cad50d14"
   },
   "outputs": [
    {
     "name": "stdout",
     "output_type": "stream",
     "text": [
      "x_train shape: (60000, 28, 28, 1)\n",
      "60000 train samples\n",
      "10000 test samples\n"
     ]
    }
   ],
   "source": [
    "num_classes = 10\n",
    "input_shape = (28, 28, 1)\n",
    "\n",
    "# the data, split between train and test sets\n",
    "(x_train, y_train_), (x_test, y_test_) = keras.datasets.mnist.load_data()\n",
    "\n",
    "# Scale images to the [0, 1] range\n",
    "x_train = x_train.astype(\"float32\") / 255\n",
    "x_test = x_test.astype(\"float32\") / 255\n",
    "# Make sure images have shape (28, 28, 1)\n",
    "x_train = np.expand_dims(x_train, -1)\n",
    "x_test = np.expand_dims(x_test, -1)\n",
    "print(\"x_train shape:\", x_train.shape)\n",
    "print(x_train.shape[0], \"train samples\")\n",
    "print(x_test.shape[0], \"test samples\")\n",
    "\n",
    "# convert class vectors to binary class matrices\n",
    "y_train = keras.utils.to_categorical(y_train_, num_classes)\n",
    "y_test = keras.utils.to_categorical(y_test_, num_classes)"
   ]
  },
  {
   "cell_type": "code",
   "execution_count": 5,
   "metadata": {
    "id": "i3XPrYJatX5p"
   },
   "outputs": [],
   "source": [
    "INPUT_SHAPE = (28,28,1)\n",
    "NUM_CLASSES = 10\n",
    "\n",
    "class CNN(keras.Model):\n",
    "\n",
    "    def __init__(self):\n",
    "        super(CNN, self).__init__()\n",
    "        self.model = keras.models.Sequential()\n",
    "        self.model.add(keras.layers.Conv2D(filters=32, kernel_size=(3, 3), strides=1, padding='Same', activation='relu',\n",
    "                                      input_shape = INPUT_SHAPE) )\n",
    "        self.model.add(keras.layers.MaxPool2D(pool_size=(2, 2), padding='same'))\n",
    "        self.model.add(keras.layers.Conv2D(filters=64,kernel_size=(3, 3),strides=1,padding='same', activation='relu'))\n",
    "        self.model.add(keras.layers.MaxPool2D(pool_size=(2, 2),padding='same'))\n",
    "        self.model.add(keras.layers.Flatten())\n",
    "        self.model.add(keras.layers.Dense(units=NUM_CLASSES, activation='sigmoid'))\n",
    "\n",
    "    def call(self, inputs):\n",
    "        return self.model(inputs)\n",
    "\n",
    "class CNN_Drop(keras.Model):\n",
    "\n",
    "    def __init__(self):\n",
    "        super(CNN_Drop, self).__init__()\n",
    "        self.model = keras.models.Sequential()\n",
    "        self.model.add(keras.layers.Conv2D(filters=32, kernel_size=(3, 3), strides=1, padding='Same', activation='relu',\n",
    "                                      input_shape = INPUT_SHAPE) )\n",
    "        self.model.add(keras.layers.MaxPool2D(pool_size=(2, 2), padding='same'))\n",
    "        self.model.add(keras.layers.Conv2D(filters=64,kernel_size=(3, 3),strides=1,padding='same', activation='relu'))\n",
    "        self.model.add(keras.layers.MaxPool2D(pool_size=(2, 2),padding='same'))\n",
    "        self.model.add(keras.layers.Flatten())\n",
    "        self.model.add(keras.layers.Dropout(0.5))\n",
    "        self.model.add(keras.layers.Dense(units=NUM_CLASSES, activation='sigmoid'))\n",
    "\n",
    "    def call(self, inputs):\n",
    "        return self.model(inputs)\n",
    "\n",
    "class CNN_BN(keras.Model):\n",
    "\n",
    "    def __init__(self):\n",
    "        super(CNN_BN, self).__init__()\n",
    "        self.model = keras.models.Sequential()\n",
    "        self.model.add(keras.layers.Conv2D(filters=32, kernel_size=(3, 3), strides=1, padding='Same', input_shape = INPUT_SHAPE) )\n",
    "        self.model.add(keras.layers.BatchNormalization())\n",
    "        self.model.add(keras.layers.ReLU())\n",
    "        self.model.add(keras.layers.MaxPool2D(pool_size=(2, 2), padding='same'))\n",
    "        \n",
    "        self.model.add(keras.layers.Conv2D(filters=64,kernel_size=(3, 3),strides=1,padding='same'))\n",
    "        self.model.add(keras.layers.BatchNormalization())\n",
    "        self.model.add(keras.layers.ReLU())\n",
    "        self.model.add(keras.layers.MaxPool2D(pool_size=(2, 2),padding='same'))\n",
    "        \n",
    "        self.model.add(keras.layers.Flatten())\n",
    "        self.model.add(keras.layers.Dense(units=NUM_CLASSES, activation='sigmoid'))\n",
    "\n",
    "    def call(self, inputs):\n",
    "        return self.model(inputs)\n"
   ]
  },
  {
   "cell_type": "markdown",
   "metadata": {
    "id": "wYlthb_y1nEF"
   },
   "source": [
    "#### CNN Model"
   ]
  },
  {
   "cell_type": "code",
   "execution_count": 6,
   "metadata": {
    "colab": {
     "base_uri": "https://localhost:8080/"
    },
    "id": "EBa63sTiteUU",
    "outputId": "d850492d-e4fb-41b3-c165-ed823b4a1f40"
   },
   "outputs": [
    {
     "name": "stdout",
     "output_type": "stream",
     "text": [
      "Epoch 1/20\n",
      "22/22 [==============================] - 1s 65ms/step - loss: 1.9397 - accuracy: 0.4926 - val_loss: 1.0134 - val_accuracy: 0.7567\n",
      "Epoch 2/20\n",
      "22/22 [==============================] - 1s 53ms/step - loss: 0.6911 - accuracy: 0.8000 - val_loss: 0.4827 - val_accuracy: 0.8333\n",
      "Epoch 3/20\n",
      "22/22 [==============================] - 1s 49ms/step - loss: 0.4385 - accuracy: 0.8737 - val_loss: 0.3885 - val_accuracy: 0.8667\n",
      "Epoch 4/20\n",
      "22/22 [==============================] - 1s 46ms/step - loss: 0.3415 - accuracy: 0.9070 - val_loss: 0.3120 - val_accuracy: 0.8933\n",
      "Epoch 5/20\n",
      "22/22 [==============================] - 1s 47ms/step - loss: 0.2867 - accuracy: 0.9178 - val_loss: 0.2712 - val_accuracy: 0.9200\n",
      "Epoch 6/20\n",
      "22/22 [==============================] - 1s 48ms/step - loss: 0.2301 - accuracy: 0.9356 - val_loss: 0.2423 - val_accuracy: 0.9167\n",
      "Epoch 7/20\n",
      "22/22 [==============================] - 1s 50ms/step - loss: 0.1992 - accuracy: 0.9433 - val_loss: 0.2478 - val_accuracy: 0.9367\n",
      "Epoch 8/20\n",
      "22/22 [==============================] - 1s 51ms/step - loss: 0.1655 - accuracy: 0.9581 - val_loss: 0.2153 - val_accuracy: 0.9400\n",
      "Epoch 9/20\n",
      "22/22 [==============================] - 1s 49ms/step - loss: 0.1500 - accuracy: 0.9626 - val_loss: 0.2304 - val_accuracy: 0.9267\n",
      "Epoch 10/20\n",
      "22/22 [==============================] - 1s 58ms/step - loss: 0.1318 - accuracy: 0.9637 - val_loss: 0.1886 - val_accuracy: 0.9500\n",
      "Epoch 11/20\n",
      "22/22 [==============================] - 1s 47ms/step - loss: 0.1093 - accuracy: 0.9730 - val_loss: 0.2195 - val_accuracy: 0.9433\n",
      "Epoch 12/20\n",
      "22/22 [==============================] - 1s 47ms/step - loss: 0.0987 - accuracy: 0.9733 - val_loss: 0.1978 - val_accuracy: 0.9433\n",
      "Epoch 13/20\n",
      "22/22 [==============================] - 1s 54ms/step - loss: 0.0892 - accuracy: 0.9774 - val_loss: 0.2142 - val_accuracy: 0.9467\n",
      "Epoch 14/20\n",
      "22/22 [==============================] - 1s 52ms/step - loss: 0.0727 - accuracy: 0.9815 - val_loss: 0.1817 - val_accuracy: 0.9600\n",
      "Epoch 15/20\n",
      "22/22 [==============================] - 1s 53ms/step - loss: 0.0943 - accuracy: 0.9704 - val_loss: 0.2003 - val_accuracy: 0.9433\n",
      "Epoch 16/20\n",
      "22/22 [==============================] - 1s 56ms/step - loss: 0.0601 - accuracy: 0.9844 - val_loss: 0.2009 - val_accuracy: 0.9567\n",
      "Epoch 17/20\n",
      "22/22 [==============================] - 1s 47ms/step - loss: 0.0642 - accuracy: 0.9837 - val_loss: 0.1658 - val_accuracy: 0.9533\n",
      "Epoch 18/20\n",
      "22/22 [==============================] - 1s 50ms/step - loss: 0.0593 - accuracy: 0.9826 - val_loss: 0.1763 - val_accuracy: 0.9567\n",
      "Epoch 19/20\n",
      "22/22 [==============================] - 1s 49ms/step - loss: 0.0405 - accuracy: 0.9915 - val_loss: 0.2024 - val_accuracy: 0.9600\n",
      "Epoch 20/20\n",
      "22/22 [==============================] - 1s 54ms/step - loss: 0.0349 - accuracy: 0.9922 - val_loss: 0.1586 - val_accuracy: 0.9700\n"
     ]
    }
   ],
   "source": [
    "epochs = 20\n",
    "batch_size = 128\n",
    "cnn = CNN()\n",
    "cnn.compile(loss=\"categorical_crossentropy\", optimizer=\"adam\", metrics=[\"accuracy\"])\n",
    "\n",
    "CNN_history = cnn.fit(x_train[:3000], y_train[:3000], batch_size=batch_size, epochs=epochs, validation_split=0.1)"
   ]
  },
  {
   "cell_type": "code",
   "execution_count": 7,
   "metadata": {
    "colab": {
     "base_uri": "https://localhost:8080/"
    },
    "id": "omEa4VUCtiJP",
    "outputId": "ba3f8f3b-1259-4c32-bbc5-3e636f525f1b"
   },
   "outputs": [
    {
     "name": "stdout",
     "output_type": "stream",
     "text": [
      "Test loss: 0.12051232904195786\n",
      "Test accuracy: 0.9617999792098999\n"
     ]
    }
   ],
   "source": [
    "score = cnn.evaluate(x_test, y_test, verbose=0)\n",
    "print(\"Test loss:\", score[0])\n",
    "print(\"Test accuracy:\", score[1])"
   ]
  },
  {
   "cell_type": "code",
   "execution_count": 8,
   "metadata": {
    "id": "w-SI2S5xPd9z"
   },
   "outputs": [],
   "source": [
    "cnn.save_weights(\"ckpt_CNN\")"
   ]
  },
  {
   "cell_type": "code",
   "execution_count": 9,
   "metadata": {},
   "outputs": [
    {
     "data": {
      "text/plain": [
       "[0.12051232904195786, 0.9617999792098999]"
      ]
     },
     "execution_count": 9,
     "metadata": {},
     "output_type": "execute_result"
    }
   ],
   "source": [
    "new_cnn = CNN()\n",
    "new_cnn.load_weights(\"ckpt_CNN\")\n",
    "cnn.evaluate(x_test, y_test, verbose=0)"
   ]
  },
  {
   "cell_type": "markdown",
   "metadata": {
    "id": "s0Mox7zj1pDG"
   },
   "source": [
    "#### CNN_Drop"
   ]
  },
  {
   "cell_type": "code",
   "execution_count": 10,
   "metadata": {
    "colab": {
     "base_uri": "https://localhost:8080/"
    },
    "id": "tSNuDSbx1mL1",
    "outputId": "bdf7684c-b75b-48b1-abad-8c2ea0cbbb0e"
   },
   "outputs": [
    {
     "name": "stdout",
     "output_type": "stream",
     "text": [
      "Epoch 1/20\n",
      "11/11 [==============================] - 1s 120ms/step - loss: 2.2214 - accuracy: 0.3081 - val_loss: 2.0139 - val_accuracy: 0.5900\n",
      "Epoch 2/20\n",
      "11/11 [==============================] - 1s 109ms/step - loss: 1.6639 - accuracy: 0.6289 - val_loss: 0.9514 - val_accuracy: 0.7433\n",
      "Epoch 3/20\n",
      "11/11 [==============================] - 1s 119ms/step - loss: 0.8948 - accuracy: 0.7178 - val_loss: 0.6078 - val_accuracy: 0.8000\n",
      "Epoch 4/20\n",
      "11/11 [==============================] - 1s 100ms/step - loss: 0.6887 - accuracy: 0.7744 - val_loss: 0.5010 - val_accuracy: 0.8400\n",
      "Epoch 5/20\n",
      "11/11 [==============================] - 1s 110ms/step - loss: 0.5469 - accuracy: 0.8252 - val_loss: 0.4036 - val_accuracy: 0.8767\n",
      "Epoch 6/20\n",
      "11/11 [==============================] - 1s 127ms/step - loss: 0.4620 - accuracy: 0.8552 - val_loss: 0.3777 - val_accuracy: 0.8800\n",
      "Epoch 7/20\n",
      "11/11 [==============================] - 1s 114ms/step - loss: 0.4115 - accuracy: 0.8752 - val_loss: 0.3285 - val_accuracy: 0.9000\n",
      "Epoch 8/20\n",
      "11/11 [==============================] - 1s 104ms/step - loss: 0.3619 - accuracy: 0.8926 - val_loss: 0.2743 - val_accuracy: 0.9067\n",
      "Epoch 9/20\n",
      "11/11 [==============================] - 1s 125ms/step - loss: 0.3136 - accuracy: 0.9022 - val_loss: 0.2571 - val_accuracy: 0.9167\n",
      "Epoch 10/20\n",
      "11/11 [==============================] - 1s 95ms/step - loss: 0.2977 - accuracy: 0.9107 - val_loss: 0.2340 - val_accuracy: 0.9300\n",
      "Epoch 11/20\n",
      "11/11 [==============================] - 1s 111ms/step - loss: 0.2691 - accuracy: 0.9170 - val_loss: 0.2333 - val_accuracy: 0.9300\n",
      "Epoch 12/20\n",
      "11/11 [==============================] - 1s 117ms/step - loss: 0.2475 - accuracy: 0.9300 - val_loss: 0.2011 - val_accuracy: 0.9400\n",
      "Epoch 13/20\n",
      "11/11 [==============================] - 1s 114ms/step - loss: 0.2335 - accuracy: 0.9300 - val_loss: 0.2072 - val_accuracy: 0.9367\n",
      "Epoch 14/20\n",
      "11/11 [==============================] - 1s 101ms/step - loss: 0.2106 - accuracy: 0.9393 - val_loss: 0.1770 - val_accuracy: 0.9533\n",
      "Epoch 15/20\n",
      "11/11 [==============================] - 1s 115ms/step - loss: 0.2013 - accuracy: 0.9433 - val_loss: 0.1945 - val_accuracy: 0.9467\n",
      "Epoch 16/20\n",
      "11/11 [==============================] - 1s 115ms/step - loss: 0.1800 - accuracy: 0.9489 - val_loss: 0.1593 - val_accuracy: 0.9500\n",
      "Epoch 17/20\n",
      "11/11 [==============================] - 1s 102ms/step - loss: 0.1718 - accuracy: 0.9511 - val_loss: 0.1710 - val_accuracy: 0.9467\n",
      "Epoch 18/20\n",
      "11/11 [==============================] - 1s 92ms/step - loss: 0.1631 - accuracy: 0.9533 - val_loss: 0.1547 - val_accuracy: 0.9600\n",
      "Epoch 19/20\n",
      "11/11 [==============================] - 1s 110ms/step - loss: 0.1520 - accuracy: 0.9526 - val_loss: 0.1489 - val_accuracy: 0.9633\n",
      "Epoch 20/20\n",
      "11/11 [==============================] - 1s 93ms/step - loss: 0.1473 - accuracy: 0.9530 - val_loss: 0.1444 - val_accuracy: 0.9633\n"
     ]
    }
   ],
   "source": [
    "epochs = 20\n",
    "batch_size = 264\n",
    "cnn_drop = CNN_Drop()\n",
    "cnn_drop.compile(loss=\"categorical_crossentropy\", optimizer=\"adam\", metrics=[\"accuracy\"])\n",
    "\n",
    "CNN_drop_history = cnn_drop.fit(x_train[:3000], y_train[:3000], batch_size=batch_size, epochs=epochs, validation_split=0.1)"
   ]
  },
  {
   "cell_type": "code",
   "execution_count": 11,
   "metadata": {
    "colab": {
     "base_uri": "https://localhost:8080/"
    },
    "id": "zu3AJZXe1sOx",
    "outputId": "6d909184-7996-45e8-c06a-0ab067a594a6"
   },
   "outputs": [
    {
     "name": "stdout",
     "output_type": "stream",
     "text": [
      "Test loss: 0.13938485085964203\n",
      "Test accuracy: 0.958899974822998\n"
     ]
    }
   ],
   "source": [
    "score = cnn_drop.evaluate(x_test, y_test, verbose=0)\n",
    "print(\"Test loss:\", score[0])\n",
    "print(\"Test accuracy:\", score[1])"
   ]
  },
  {
   "cell_type": "code",
   "execution_count": 12,
   "metadata": {
    "id": "3ybIgKYPqtRp"
   },
   "outputs": [],
   "source": [
    "cnn_drop.save_weights(\"ckpt_CNN_Drop\")"
   ]
  },
  {
   "cell_type": "markdown",
   "metadata": {
    "id": "H9SbK_ORlUDJ"
   },
   "source": [
    "#### CNN_BN"
   ]
  },
  {
   "cell_type": "code",
   "execution_count": 13,
   "metadata": {
    "colab": {
     "base_uri": "https://localhost:8080/"
    },
    "id": "JuPi1TIck1bs",
    "outputId": "3cc01bb2-9356-4164-feef-5f55a49fc185"
   },
   "outputs": [
    {
     "name": "stdout",
     "output_type": "stream",
     "text": [
      "Epoch 1/20\n",
      "22/22 [==============================] - 2s 111ms/step - loss: 1.8353 - accuracy: 0.1915 - val_loss: 2.1359 - val_accuracy: 0.1700\n",
      "Epoch 2/20\n",
      "22/22 [==============================] - 2s 82ms/step - loss: 0.8173 - accuracy: 0.6059 - val_loss: 2.0226 - val_accuracy: 0.3433\n",
      "Epoch 3/20\n",
      "22/22 [==============================] - 2s 87ms/step - loss: 0.2050 - accuracy: 0.9456 - val_loss: 2.0510 - val_accuracy: 0.2367\n",
      "Epoch 4/20\n",
      "22/22 [==============================] - 2s 77ms/step - loss: 0.1196 - accuracy: 0.9674 - val_loss: 2.1003 - val_accuracy: 0.2600\n",
      "Epoch 5/20\n",
      "22/22 [==============================] - 2s 92ms/step - loss: 0.0874 - accuracy: 0.9770 - val_loss: 2.0687 - val_accuracy: 0.2533\n",
      "Epoch 6/20\n",
      "22/22 [==============================] - 2s 75ms/step - loss: 0.0552 - accuracy: 0.9896 - val_loss: 2.0881 - val_accuracy: 0.2367\n",
      "Epoch 7/20\n",
      "22/22 [==============================] - 2s 74ms/step - loss: 0.0389 - accuracy: 0.9922 - val_loss: 2.0344 - val_accuracy: 0.2400\n",
      "Epoch 8/20\n",
      "22/22 [==============================] - 2s 71ms/step - loss: 0.0271 - accuracy: 0.9970 - val_loss: 1.9860 - val_accuracy: 0.2400\n",
      "Epoch 9/20\n",
      "22/22 [==============================] - 2s 89ms/step - loss: 0.0188 - accuracy: 0.9974 - val_loss: 1.9186 - val_accuracy: 0.2833\n",
      "Epoch 10/20\n",
      "22/22 [==============================] - 2s 99ms/step - loss: 0.0137 - accuracy: 0.9993 - val_loss: 1.6991 - val_accuracy: 0.3967\n",
      "Epoch 11/20\n",
      "22/22 [==============================] - 2s 78ms/step - loss: 0.0112 - accuracy: 1.0000 - val_loss: 1.5457 - val_accuracy: 0.5133\n",
      "Epoch 12/20\n",
      "22/22 [==============================] - 2s 70ms/step - loss: 0.0091 - accuracy: 1.0000 - val_loss: 1.3663 - val_accuracy: 0.5733\n",
      "Epoch 13/20\n",
      "22/22 [==============================] - 2s 72ms/step - loss: 0.0078 - accuracy: 1.0000 - val_loss: 1.1856 - val_accuracy: 0.6167\n",
      "Epoch 14/20\n",
      "22/22 [==============================] - 2s 73ms/step - loss: 0.0061 - accuracy: 1.0000 - val_loss: 1.0719 - val_accuracy: 0.6300\n",
      "Epoch 15/20\n",
      "22/22 [==============================] - 2s 76ms/step - loss: 0.0051 - accuracy: 1.0000 - val_loss: 0.8608 - val_accuracy: 0.7233\n",
      "Epoch 16/20\n",
      "22/22 [==============================] - 2s 76ms/step - loss: 0.0054 - accuracy: 1.0000 - val_loss: 0.7556 - val_accuracy: 0.7533\n",
      "Epoch 17/20\n",
      "22/22 [==============================] - 2s 74ms/step - loss: 0.0041 - accuracy: 1.0000 - val_loss: 0.5600 - val_accuracy: 0.8167\n",
      "Epoch 18/20\n",
      "22/22 [==============================] - 2s 71ms/step - loss: 0.0035 - accuracy: 1.0000 - val_loss: 0.4630 - val_accuracy: 0.8533\n",
      "Epoch 19/20\n",
      "22/22 [==============================] - 2s 75ms/step - loss: 0.0031 - accuracy: 1.0000 - val_loss: 0.4021 - val_accuracy: 0.8600\n",
      "Epoch 20/20\n",
      "22/22 [==============================] - 2s 78ms/step - loss: 0.0028 - accuracy: 1.0000 - val_loss: 0.2991 - val_accuracy: 0.9000\n"
     ]
    }
   ],
   "source": [
    "epochs = 20\n",
    "batch_size = 128\n",
    "cnn_bn = CNN_BN()\n",
    "cnn_bn.compile(loss=\"categorical_crossentropy\", optimizer=\"adam\", metrics=[\"accuracy\"])\n",
    "\n",
    "CNN_BN_history = cnn_bn.fit(x_train[:3000], y_train[:3000], batch_size=batch_size, epochs=epochs, validation_split=0.1)"
   ]
  },
  {
   "cell_type": "code",
   "execution_count": 14,
   "metadata": {
    "colab": {
     "base_uri": "https://localhost:8080/"
    },
    "id": "bEbd78CIlcoe",
    "outputId": "0de098de-cfc0-41d2-d7b5-181b19172ba1"
   },
   "outputs": [
    {
     "name": "stdout",
     "output_type": "stream",
     "text": [
      "Test loss: 0.28660380840301514\n",
      "Test accuracy: 0.9229999780654907\n"
     ]
    }
   ],
   "source": [
    "score = cnn_bn.evaluate(x_test, y_test, verbose=0)\n",
    "print(\"Test loss:\", score[0])\n",
    "print(\"Test accuracy:\", score[1])"
   ]
  },
  {
   "cell_type": "code",
   "execution_count": 21,
   "metadata": {},
   "outputs": [],
   "source": [
    "cnn_bn.save_weights(\"ckpt_CNN_BN\")"
   ]
  },
  {
   "cell_type": "code",
   "execution_count": 44,
   "metadata": {},
   "outputs": [
    {
     "data": {
      "text/plain": [
       "array([7, 2, 1])"
      ]
     },
     "execution_count": 44,
     "metadata": {},
     "output_type": "execute_result"
    }
   ],
   "source": [
    "np.argmax(cnn_bn.predict(x_test[:3]), axis=1)"
   ]
  },
  {
   "cell_type": "code",
   "execution_count": 40,
   "metadata": {},
   "outputs": [
    {
     "data": {
      "text/plain": [
       "<matplotlib.image.AxesImage at 0x7fd168219070>"
      ]
     },
     "execution_count": 40,
     "metadata": {},
     "output_type": "execute_result"
    },
    {
     "data": {
      "image/png": "[encoded data removed]",
      "text/plain": [
       "<Figure size 432x288 with 1 Axes>"
      ]
     },
     "metadata": {
      "needs_background": "light"
     },
     "output_type": "display_data"
    }
   ],
   "source": [
    "plt.imshow(x_test[0])"
   ]
  },
  {
   "cell_type": "markdown",
   "metadata": {
    "id": "wNqFdLj2zsWA"
   },
   "source": [
    "#### Comparison"
   ]
  },
  {
   "cell_type": "markdown",
   "metadata": {
    "id": "UUYBht4VmemZ"
   },
   "source": [
    "Plot"
   ]
  },
  {
   "cell_type": "code",
   "execution_count": 15,
   "metadata": {
    "id": "9tZ5ClLJmfme"
   },
   "outputs": [],
   "source": [
    "import matplotlib.pyplot as plt\n",
    "from matplotlib.ticker import MaxNLocator\n",
    "\n",
    "def plot_losses(histories, titles,):\n",
    "    n = len(histories)\n",
    "    fig, axes = plt.subplots(1,n, figsize = (n*6,4))\n",
    "    if n == 1:\n",
    "        axes = [axes]\n",
    "\n",
    "    for i in range(n):\n",
    "        train_loss = histories[i].history['loss']\n",
    "        val_loss = histories[i].history['val_loss']\n",
    "        x = np.arange(len(train_loss),)\n",
    "        axes[i].plot(x, train_loss,color='blue', label = 'Train loss')\n",
    "        axes[i].plot(x, val_loss,color='red', label = 'Validation loss')\n",
    "        axes[i].set_xlabel('Epoch')\n",
    "        axes[i].set_ylabel('Loss')\n",
    "        axes[i].set_title(titles[i])\n",
    "        axes[i].legend()\n",
    "        axes[i].xaxis.set_major_locator(MaxNLocator(integer=True))\n",
    "    \n",
    "    plt.show()"
   ]
  },
  {
   "cell_type": "code",
   "execution_count": 16,
   "metadata": {
    "colab": {
     "base_uri": "https://localhost:8080/",
     "height": 295
    },
    "id": "uld-ZY_rnaz5",
    "outputId": "a7e0e376-f3a3-45d3-8173-68960b8568d4"
   },
   "outputs": [
    {
     "data": {
      "image/png": "[encoded data removed]",
      "text/plain": [
       "<Figure size 1296x288 with 3 Axes>"
      ]
     },
     "metadata": {
      "needs_background": "light"
     },
     "output_type": "display_data"
    }
   ],
   "source": [
    "plot_losses([CNN_history, CNN_drop_history, CNN_BN_history ], ['CNN', 'CNN Dropout', 'CNN BatchNorm'])\n",
    "# plot_losses([CNN_history], ['CNN'])"
   ]
  },
  {
   "cell_type": "code",
   "execution_count": 17,
   "metadata": {
    "id": "OQC5T7K2oM6t"
   },
   "outputs": [],
   "source": [
    "import matplotlib.pyplot as plt\n",
    "from matplotlib.ticker import MaxNLocator\n",
    "\n",
    "def plot_accuracy(histories, titles,):\n",
    "    n = len(histories)\n",
    "    fig, axes = plt.subplots(1,n, figsize = (n*6,4))\n",
    "    if n == 1:\n",
    "        axes = [axes]\n",
    "\n",
    "    for i in range(n):\n",
    "        train_loss = histories[i].history['accuracy']\n",
    "        val_loss = histories[i].history['val_accuracy']\n",
    "        x = np.arange(len(train_loss),)\n",
    "        axes[i].plot(x, train_loss, color='blue', label = 'Train accuracy')\n",
    "        axes[i].plot(x, val_loss, color ='red', label = 'Validation accuracy')\n",
    "        axes[i].set_xlabel('Epoch')\n",
    "        axes[i].set_ylabel('Loss')\n",
    "        axes[i].set_title(titles[i])\n",
    "        axes[i].legend()\n",
    "        axes[i].xaxis.set_major_locator(MaxNLocator(integer=True))\n",
    "\n",
    "    plt.show()"
   ]
  },
  {
   "cell_type": "code",
   "execution_count": 18,
   "metadata": {
    "colab": {
     "base_uri": "https://localhost:8080/",
     "height": 295
    },
    "id": "Deu4ZkcCqcnR",
    "outputId": "9d2bafe9-dbdf-4162-fd2f-9e927903d4d5"
   },
   "outputs": [
    {
     "data": {
      "image/png": "[encoded data removed]",
      "text/plain": [
       "<Figure size 1296x288 with 3 Axes>"
      ]
     },
     "metadata": {
      "needs_background": "light"
     },
     "output_type": "display_data"
    }
   ],
   "source": [
    "plot_accuracy([CNN_history, CNN_drop_history, CNN_BN_history], ['CNN', 'CNN Dropout', 'CNN BatchNorm'])\n",
    "# plot_accuracy([CNN_history], ['CNN'])"
   ]
  },
  {
   "cell_type": "code",
   "execution_count": 28,
   "metadata": {
    "id": "8s3kq96Or9KR"
   },
   "outputs": [],
   "source": [
    "def show_images(x,y, num):\n",
    "    if num % 2 == 1:\n",
    "        num += 1\n",
    "    \n",
    "    images = x_train.squeeze()[:num]\n",
    "    labels = y_train_.squeeze()[:num]\n",
    "    num_row = 2\n",
    "    num_col = num // 2\n",
    "\n",
    "    fig, axes = plt.subplots(num_row, num_col, figsize=(1.5*num_col,2*num_row))\n",
    "    for i in range(num):\n",
    "        ax = axes[i//num_col, i%num_col]\n",
    "        ax.imshow(images[i], cmap='gray_r', )\n",
    "        ax.set_title('Label: {}'.format(labels[i]))\n",
    "\n",
    "    plt.tight_layout()\n",
    "    plt.show()"
   ]
  },
  {
   "cell_type": "code",
   "execution_count": 37,
   "metadata": {
    "colab": {
     "base_uri": "https://localhost:8080/",
     "height": 277
    },
    "id": "AYPzSc7Gsyqz",
    "outputId": "a5346360-8a6e-42f8-a862-7f15cdbb4106"
   },
   "outputs": [
    {
     "data": {
      "image/png": "[encoded data removed]",
      "text/plain": [
       "<Figure size 540x288 with 10 Axes>"
      ]
     },
     "metadata": {
      "needs_background": "light"
     },
     "output_type": "display_data"
    }
   ],
   "source": [
    "show_images(x_test, y_test, 10)"
   ]
  },
  {
   "cell_type": "code",
   "execution_count": null,
   "metadata": {
    "id": "yoeRR87Ttbbh"
   },
   "outputs": [],
   "source": []
  }
 ],
 "metadata": {
  "colab": {
   "collapsed_sections": [],
   "name": "MNIST_CNNs.ipynb",
   "provenance": [],
   "toc_visible": true
  },
  "kernelspec": {
   "display_name": "Python 3",
   "language": "python",
   "name": "python3"
  },
  "language_info": {
   "codemirror_mode": {
    "name": "ipython",
    "version": 3
   },
   "file_extension": ".py",
   "mimetype": "text/x-python",
   "name": "python",
   "nbconvert_exporter": "python",
   "pygments_lexer": "ipython3",
   "version": "3.8.5"
  }
 },
 "nbformat": 4,
 "nbformat_minor": 1
}
