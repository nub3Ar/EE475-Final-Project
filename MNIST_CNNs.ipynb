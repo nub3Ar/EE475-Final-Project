{
 "cells": [
  {
   "cell_type": "code",
   "execution_count": 11,
   "metadata": {
    "id": "Ia1KJznurWB_"
   },
   "outputs": [],
   "source": [
    "import tensorflow as tf\n",
    "import keras\n",
    "from keras import layers\n",
    "import numpy as np\n",
    "import matplotlib.pyplot as plt\n",
    "from image_processor import transformation\n",
    "from classifier.models import CNN\n",
    "from classifier.Main import CNN_prediction\n"
   ]
  },
  {
   "cell_type": "code",
   "execution_count": 2,
   "metadata": {
    "scrolled": true
   },
   "outputs": [
    {
     "data": {
      "text/plain": [
       "'/mnt/c/Users/PC-BARRYZHANG/Dropbox/Homework/EE475/EE475-Final-Project'"
      ]
     },
     "execution_count": 2,
     "metadata": {},
     "output_type": "execute_result"
    }
   ],
   "source": [
    "import os\n",
    "os.getcwd()"
   ]
  },
  {
   "cell_type": "code",
   "execution_count": 4,
   "metadata": {},
   "outputs": [
    {
     "name": "stdout",
     "output_type": "stream",
     "text": [
      "184 909\n"
     ]
    }
   ],
   "source": [
    "x_train = np.array(transformation(\"thicccc.jpg\"))\n",
    "# Scale images to the [0, 1] range\n",
    "x_train = x_train.astype(\"float32\") / 255\n",
    "x_train = np.expand_dims(x_train, -1)\n",
    "# Make sure images have shape (28, 28, 1)"
   ]
  },
  {
   "cell_type": "code",
   "execution_count": 5,
   "metadata": {},
   "outputs": [
    {
     "data": {
      "text/plain": [
       "<tensorflow.python.training.tracking.util.CheckpointLoadStatus at 0x7f6cc7ed8b20>"
      ]
     },
     "execution_count": 5,
     "metadata": {},
     "output_type": "execute_result"
    }
   ],
   "source": [
    "cnn = CNN()\n",
    "cnn.load_weights('weights/ckpt_CNN')"
   ]
  },
  {
   "cell_type": "markdown",
   "metadata": {},
   "source": [
    "## CNN_prediction(x_train)"
   ]
  },
  {
   "cell_type": "code",
   "execution_count": 6,
   "metadata": {},
   "outputs": [
    {
     "data": {
      "text/plain": [
       "array([9, 2, 8, 6, 4, 5, 3, 8, 2, 1])"
      ]
     },
     "execution_count": 6,
     "metadata": {},
     "output_type": "execute_result"
    }
   ],
   "source": [
    "probs = cnn.predict(x_train)\n",
    "np.argmax(probs, axis=1)"
   ]
  },
  {
   "cell_type": "code",
   "execution_count": 9,
   "metadata": {},
   "outputs": [
    {
     "ename": "NameError",
     "evalue": "name 'y_test' is not defined",
     "output_type": "error",
     "traceback": [
      "\u001b[0;31m---------------------------------------------------------------------------\u001b[0m",
      "\u001b[0;31mNameError\u001b[0m                                 Traceback (most recent call last)",
      "\u001b[0;32m<ipython-input-9-d08434089d5c>\u001b[0m in \u001b[0;36m<module>\u001b[0;34m\u001b[0m\n\u001b[0;32m----> 1\u001b[0;31m \u001b[0mshow_images\u001b[0m\u001b[0;34m(\u001b[0m\u001b[0mx_train\u001b[0m\u001b[0;34m,\u001b[0m \u001b[0my_test\u001b[0m\u001b[0;34m,\u001b[0m \u001b[0;36m10\u001b[0m\u001b[0;34m)\u001b[0m\u001b[0;34m\u001b[0m\u001b[0;34m\u001b[0m\u001b[0m\n\u001b[0m",
      "\u001b[0;31mNameError\u001b[0m: name 'y_test' is not defined"
     ]
    }
   ],
   "source": [
    "show_images(x_train, y_test, 10)"
   ]
  },
  {
   "cell_type": "markdown",
   "metadata": {
    "id": "zr0pen5x5cQL"
   },
   "source": [
    "#### Load data"
   ]
  },
  {
   "cell_type": "code",
   "execution_count": null,
   "metadata": {
    "colab": {
     "base_uri": "https://localhost:8080/"
    },
    "id": "mn5qorMYssUP",
    "outputId": "6be9fa78-a0c1-4f25-9e36-15c0fe79f8b0"
   },
   "outputs": [],
   "source": [
    "(x_train, y_train), (x_test, y_test) = tf.keras.datasets.mnist.load_data()\n",
    "\n",
    "print(\"Number of original training examples:\", len(x_train))\n",
    "print(\"Number of original test examples:\", len(x_test))"
   ]
  },
  {
   "cell_type": "code",
   "execution_count": null,
   "metadata": {
    "colab": {
     "base_uri": "https://localhost:8080/"
    },
    "id": "YnZNYOsG00VS",
    "outputId": "0af5d272-dccc-4bee-f1d6-5447cad50d14"
   },
   "outputs": [],
   "source": [
    "num_classes = 10\n",
    "input_shape = (28, 28, 1)\n",
    "\n",
    "# the data, split between train and test sets\n",
    "(x_train, y_train_), (x_test, y_test_) = keras.datasets.mnist.load_data()\n",
    "\n",
    "# Scale images to the [0, 1] range\n",
    "x_train = x_train.astype(\"float32\") / 255\n",
    "x_test = x_test.astype(\"float32\") / 255\n",
    "# Make sure images have shape (28, 28, 1)\n",
    "x_train = np.expand_dims(x_train, -1)\n",
    "x_test = np.expand_dims(x_test, -1)\n",
    "print(\"x_train shape:\", x_train.shape)\n",
    "print(x_train.shape[0], \"train samples\")\n",
    "print(x_test.shape[0], \"test samples\")\n",
    "\n",
    "# convert class vectors to binary class matrices\n",
    "y_train = keras.utils.to_categorical(y_train_, num_classes)\n",
    "y_test = keras.utils.to_categorical(y_test_, num_classes)"
   ]
  },
  {
   "cell_type": "code",
   "execution_count": null,
   "metadata": {
    "id": "i3XPrYJatX5p"
   },
   "outputs": [],
   "source": [
    "INPUT_SHAPE = (28,28,1)\n",
    "NUM_CLASSES = 10\n",
    "\n",
    "class CNN(keras.Model):\n",
    "\n",
    "    def __init__(self):\n",
    "        super(CNN, self).__init__()\n",
    "        self.model = keras.models.Sequential()\n",
    "        self.model.add(keras.layers.Conv2D(filters=32, kernel_size=(3, 3), strides=1, padding='Same', activation='relu',\n",
    "                                      input_shape = INPUT_SHAPE) )\n",
    "        self.model.add(keras.layers.MaxPool2D(pool_size=(2, 2), padding='same'))\n",
    "        self.model.add(keras.layers.Conv2D(filters=64,kernel_size=(3, 3),strides=1,padding='same', activation='relu'))\n",
    "        self.model.add(keras.layers.MaxPool2D(pool_size=(2, 2),padding='same'))\n",
    "        self.model.add(keras.layers.Flatten())\n",
    "        self.model.add(keras.layers.Dense(units=NUM_CLASSES, activation='sigmoid'))\n",
    "\n",
    "    def call(self, inputs):\n",
    "        return self.model(inputs)\n",
    "\n",
    "class CNN_Drop(keras.Model):\n",
    "\n",
    "    def __init__(self):\n",
    "        super(CNN_Drop, self).__init__()\n",
    "        self.model = keras.models.Sequential()\n",
    "        self.model.add(keras.layers.Conv2D(filters=32, kernel_size=(3, 3), strides=1, padding='Same', activation='relu',\n",
    "                                      input_shape = INPUT_SHAPE) )\n",
    "        self.model.add(keras.layers.MaxPool2D(pool_size=(2, 2), padding='same'))\n",
    "        self.model.add(keras.layers.Conv2D(filters=64,kernel_size=(3, 3),strides=1,padding='same', activation='relu'))\n",
    "        self.model.add(keras.layers.MaxPool2D(pool_size=(2, 2),padding='same'))\n",
    "        self.model.add(keras.layers.Flatten())\n",
    "        self.model.add(keras.layers.Dropout(0.5))\n",
    "        self.model.add(keras.layers.Dense(units=NUM_CLASSES, activation='sigmoid'))\n",
    "\n",
    "    def call(self, inputs):\n",
    "        return self.model(inputs)\n",
    "\n",
    "class CNN_BN(keras.Model):\n",
    "\n",
    "    def __init__(self):\n",
    "        super(CNN_BN, self).__init__()\n",
    "        self.model = keras.models.Sequential()\n",
    "        self.model.add(keras.layers.Conv2D(filters=32, kernel_size=(3, 3), strides=1, padding='Same', input_shape = INPUT_SHAPE) )\n",
    "        self.model.add(keras.layers.BatchNormalization())\n",
    "        self.model.add(keras.layers.ReLU())\n",
    "        self.model.add(keras.layers.MaxPool2D(pool_size=(2, 2), padding='same'))\n",
    "        \n",
    "        self.model.add(keras.layers.Conv2D(filters=64,kernel_size=(3, 3),strides=1,padding='same'))\n",
    "        self.model.add(keras.layers.BatchNormalization())\n",
    "        self.model.add(keras.layers.ReLU())\n",
    "        self.model.add(keras.layers.MaxPool2D(pool_size=(2, 2),padding='same'))\n",
    "        \n",
    "        self.model.add(keras.layers.Flatten())\n",
    "        self.model.add(keras.layers.Dense(units=NUM_CLASSES, activation='sigmoid'))\n",
    "\n",
    "    def call(self, inputs):\n",
    "        return self.model(inputs)\n"
   ]
  },
  {
   "cell_type": "markdown",
   "metadata": {
    "id": "wYlthb_y1nEF"
   },
   "source": [
    "#### CNN Model"
   ]
  },
  {
   "cell_type": "code",
   "execution_count": null,
   "metadata": {
    "colab": {
     "base_uri": "https://localhost:8080/"
    },
    "id": "EBa63sTiteUU",
    "outputId": "d850492d-e4fb-41b3-c165-ed823b4a1f40"
   },
   "outputs": [],
   "source": [
    "epochs = 20\n",
    "batch_size = 128\n",
    "cnn = CNN()\n",
    "cnn.compile(loss=\"categorical_crossentropy\", optimizer=\"adam\", metrics=[\"accuracy\"])\n",
    "\n",
    "CNN_history = cnn.fit(x_train[:3000], y_train[:3000], batch_size=batch_size, epochs=epochs, validation_split=0.1)"
   ]
  },
  {
   "cell_type": "code",
   "execution_count": null,
   "metadata": {
    "colab": {
     "base_uri": "https://localhost:8080/"
    },
    "id": "omEa4VUCtiJP",
    "outputId": "ba3f8f3b-1259-4c32-bbc5-3e636f525f1b"
   },
   "outputs": [],
   "source": [
    "score = cnn.evaluate(x_test, y_test, verbose=0)\n",
    "print(\"Test loss:\", score[0])\n",
    "print(\"Test accuracy:\", score[1])"
   ]
  },
  {
   "cell_type": "code",
   "execution_count": null,
   "metadata": {
    "id": "w-SI2S5xPd9z"
   },
   "outputs": [],
   "source": [
    "cnn.save_weights(\"ckpt_CNN\")"
   ]
  },
  {
   "cell_type": "code",
   "execution_count": null,
   "metadata": {},
   "outputs": [],
   "source": [
    "new_cnn = CNN()\n",
    "new_cnn.load_weights(\"ckpt_CNN\")\n",
    "cnn.evaluate(x_test, y_test, verbose=0)"
   ]
  },
  {
   "cell_type": "markdown",
   "metadata": {
    "id": "s0Mox7zj1pDG"
   },
   "source": [
    "#### CNN_Drop"
   ]
  },
  {
   "cell_type": "code",
   "execution_count": null,
   "metadata": {
    "colab": {
     "base_uri": "https://localhost:8080/"
    },
    "id": "tSNuDSbx1mL1",
    "outputId": "bdf7684c-b75b-48b1-abad-8c2ea0cbbb0e"
   },
   "outputs": [],
   "source": [
    "epochs = 20\n",
    "batch_size = 264\n",
    "cnn_drop = CNN_Drop()\n",
    "cnn_drop.compile(loss=\"categorical_crossentropy\", optimizer=\"adam\", metrics=[\"accuracy\"])\n",
    "\n",
    "CNN_drop_history = cnn_drop.fit(x_train[:3000], y_train[:3000], batch_size=batch_size, epochs=epochs, validation_split=0.1)"
   ]
  },
  {
   "cell_type": "code",
   "execution_count": null,
   "metadata": {
    "colab": {
     "base_uri": "https://localhost:8080/"
    },
    "id": "zu3AJZXe1sOx",
    "outputId": "6d909184-7996-45e8-c06a-0ab067a594a6"
   },
   "outputs": [],
   "source": [
    "score = cnn_drop.evaluate(x_test, y_test, verbose=0)\n",
    "print(\"Test loss:\", score[0])\n",
    "print(\"Test accuracy:\", score[1])"
   ]
  },
  {
   "cell_type": "code",
   "execution_count": null,
   "metadata": {
    "id": "3ybIgKYPqtRp"
   },
   "outputs": [],
   "source": [
    "cnn_drop.save_weights(\"ckpt_CNN_Drop\")"
   ]
  },
  {
   "cell_type": "markdown",
   "metadata": {
    "id": "H9SbK_ORlUDJ"
   },
   "source": [
    "#### CNN_BN"
   ]
  },
  {
   "cell_type": "code",
   "execution_count": null,
   "metadata": {
    "colab": {
     "base_uri": "https://localhost:8080/"
    },
    "id": "JuPi1TIck1bs",
    "outputId": "3cc01bb2-9356-4164-feef-5f55a49fc185"
   },
   "outputs": [],
   "source": [
    "epochs = 20\n",
    "batch_size = 128\n",
    "cnn_bn = CNN_BN()\n",
    "cnn_bn.compile(loss=\"categorical_crossentropy\", optimizer=\"adam\", metrics=[\"accuracy\"])\n",
    "\n",
    "CNN_BN_history = cnn_bn.fit(x_train[:3000], y_train[:3000], batch_size=batch_size, epochs=epochs, validation_split=0.1)"
   ]
  },
  {
   "cell_type": "code",
   "execution_count": null,
   "metadata": {
    "colab": {
     "base_uri": "https://localhost:8080/"
    },
    "id": "bEbd78CIlcoe",
    "outputId": "0de098de-cfc0-41d2-d7b5-181b19172ba1"
   },
   "outputs": [],
   "source": [
    "score = cnn_bn.evaluate(x_test, y_test, verbose=0)\n",
    "print(\"Test loss:\", score[0])\n",
    "print(\"Test accuracy:\", score[1])"
   ]
  },
  {
   "cell_type": "code",
   "execution_count": null,
   "metadata": {},
   "outputs": [],
   "source": [
    "cnn_bn.save_weights(\"ckpt_CNN_BN\")"
   ]
  },
  {
   "cell_type": "code",
   "execution_count": null,
   "metadata": {},
   "outputs": [],
   "source": [
    "np.argmax(cnn_bn.predict(x_test[:3]), axis=1)"
   ]
  },
  {
   "cell_type": "code",
   "execution_count": null,
   "metadata": {},
   "outputs": [],
   "source": [
    "plt.imshow(x_test[0])"
   ]
  },
  {
   "cell_type": "markdown",
   "metadata": {
    "id": "wNqFdLj2zsWA"
   },
   "source": [
    "#### Comparison"
   ]
  },
  {
   "cell_type": "markdown",
   "metadata": {
    "id": "UUYBht4VmemZ"
   },
   "source": [
    "Plot"
   ]
  },
  {
   "cell_type": "code",
   "execution_count": null,
   "metadata": {
    "id": "9tZ5ClLJmfme"
   },
   "outputs": [],
   "source": [
    "import matplotlib.pyplot as plt\n",
    "from matplotlib.ticker import MaxNLocator\n",
    "\n",
    "def plot_losses(histories, titles,):\n",
    "    n = len(histories)\n",
    "    fig, axes = plt.subplots(1,n, figsize = (n*6,4))\n",
    "    if n == 1:\n",
    "        axes = [axes]\n",
    "\n",
    "    for i in range(n):\n",
    "        train_loss = histories[i].history['loss']\n",
    "        val_loss = histories[i].history['val_loss']\n",
    "        x = np.arange(len(train_loss),)\n",
    "        axes[i].plot(x, train_loss,color='blue', label = 'Train loss')\n",
    "        axes[i].plot(x, val_loss,color='red', label = 'Validation loss')\n",
    "        axes[i].set_xlabel('Epoch')\n",
    "        axes[i].set_ylabel('Loss')\n",
    "        axes[i].set_title(titles[i])\n",
    "        axes[i].legend()\n",
    "        axes[i].xaxis.set_major_locator(MaxNLocator(integer=True))\n",
    "    \n",
    "    plt.show()"
   ]
  },
  {
   "cell_type": "code",
   "execution_count": null,
   "metadata": {
    "colab": {
     "base_uri": "https://localhost:8080/",
     "height": 295
    },
    "id": "uld-ZY_rnaz5",
    "outputId": "a7e0e376-f3a3-45d3-8173-68960b8568d4"
   },
   "outputs": [],
   "source": [
    "plot_losses([CNN_history, CNN_drop_history, CNN_BN_history ], ['CNN', 'CNN Dropout', 'CNN BatchNorm'])\n",
    "# plot_losses([CNN_history], ['CNN'])"
   ]
  },
  {
   "cell_type": "code",
   "execution_count": null,
   "metadata": {
    "id": "OQC5T7K2oM6t"
   },
   "outputs": [],
   "source": [
    "import matplotlib.pyplot as plt\n",
    "from matplotlib.ticker import MaxNLocator\n",
    "\n",
    "def plot_accuracy(histories, titles,):\n",
    "    n = len(histories)\n",
    "    fig, axes = plt.subplots(1,n, figsize = (n*6,4))\n",
    "    if n == 1:\n",
    "        axes = [axes]\n",
    "\n",
    "    for i in range(n):\n",
    "        train_loss = histories[i].history['accuracy']\n",
    "        val_loss = histories[i].history['val_accuracy']\n",
    "        x = np.arange(len(train_loss),)\n",
    "        axes[i].plot(x, train_loss, color='blue', label = 'Train accuracy')\n",
    "        axes[i].plot(x, val_loss, color ='red', label = 'Validation accuracy')\n",
    "        axes[i].set_xlabel('Epoch')\n",
    "        axes[i].set_ylabel('Loss')\n",
    "        axes[i].set_title(titles[i])\n",
    "        axes[i].legend()\n",
    "        axes[i].xaxis.set_major_locator(MaxNLocator(integer=True))\n",
    "\n",
    "    plt.show()"
   ]
  },
  {
   "cell_type": "code",
   "execution_count": null,
   "metadata": {
    "colab": {
     "base_uri": "https://localhost:8080/",
     "height": 295
    },
    "id": "Deu4ZkcCqcnR",
    "outputId": "9d2bafe9-dbdf-4162-fd2f-9e927903d4d5"
   },
   "outputs": [],
   "source": [
    "plot_accuracy([CNN_history, CNN_drop_history, CNN_BN_history], ['CNN', 'CNN Dropout', 'CNN BatchNorm'])\n",
    "# plot_accuracy([CNN_history], ['CNN'])"
   ]
  },
  {
   "cell_type": "code",
   "execution_count": 8,
   "metadata": {
    "id": "8s3kq96Or9KR"
   },
   "outputs": [],
   "source": [
    "def show_images(x,y, num):\n",
    "    if num % 2 == 1:\n",
    "        num += 1\n",
    "    \n",
    "    images = x_train.squeeze()[:num]\n",
    "    labels = y_train.squeeze()[:num]\n",
    "    num_row = 2\n",
    "    num_col = num // 2\n",
    "\n",
    "    fig, axes = plt.subplots(num_row, num_col, figsize=(1.5*num_col,2*num_row))\n",
    "    for i in range(num):\n",
    "        ax = axes[i//num_col, i%num_col]\n",
    "        ax.imshow(images[i], cmap='gray_r', )\n",
    "        ax.set_title('Label: {}'.format(labels[i]))\n",
    "\n",
    "    plt.tight_layout()\n",
    "    plt.show()"
   ]
  },
  {
   "cell_type": "code",
   "execution_count": null,
   "metadata": {
    "colab": {
     "base_uri": "https://localhost:8080/",
     "height": 277
    },
    "id": "AYPzSc7Gsyqz",
    "outputId": "a5346360-8a6e-42f8-a862-7f15cdbb4106"
   },
   "outputs": [],
   "source": [
    "show_images(x_train, y_test, 10)"
   ]
  },
  {
   "cell_type": "code",
   "execution_count": null,
   "metadata": {
    "id": "yoeRR87Ttbbh"
   },
   "outputs": [],
   "source": []
  }
 ],
 "metadata": {
  "colab": {
   "collapsed_sections": [],
   "name": "MNIST_CNNs.ipynb",
   "provenance": [],
   "toc_visible": true
  },
  "kernelspec": {
   "display_name": "Python 3",
   "language": "python",
   "name": "python3"
  },
  "language_info": {
   "codemirror_mode": {
    "name": "ipython",
    "version": 3
   },
   "file_extension": ".py",
   "mimetype": "text/x-python",
   "name": "python",
   "nbconvert_exporter": "python",
   "pygments_lexer": "ipython3",
   "version": "3.8.5"
  }
 },
 "nbformat": 4,
 "nbformat_minor": 1
}
